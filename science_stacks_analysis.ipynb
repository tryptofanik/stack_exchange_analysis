{
 "cells": [
  {
   "cell_type": "code",
   "execution_count": null,
   "metadata": {
    "ExecuteTime": {
     "end_time": "2021-01-05T11:01:07.068642Z",
     "start_time": "2021-01-05T11:01:07.062270Z"
    }
   },
   "outputs": [],
   "source": [
    "import pandas as pd\n",
    "import numpy as np\n",
    "import os\n",
    "from tqdm.notebook import tqdm\n",
    "from glob import glob\n",
    "import networkx as nx\n",
    "import itertools\n",
    "from collections import defaultdict\n",
    "import re\n",
    "import nltk\n",
    "\n",
    "import matplotlib.pyplot as plt\n",
    "from matplotlib_venn import venn3\n",
    "import plotly.express as px\n",
    "import plotly.graph_objects as go"
   ]
  },
  {
   "cell_type": "code",
   "execution_count": null,
   "metadata": {
    "ExecuteTime": {
     "end_time": "2021-01-05T11:01:07.845120Z",
     "start_time": "2021-01-05T11:01:07.464636Z"
    }
   },
   "outputs": [],
   "source": [
    "pd.options.display.max_columns = 50\n",
    "nltk.download('punkt')"
   ]
  },
  {
   "cell_type": "code",
   "execution_count": null,
   "metadata": {
    "ExecuteTime": {
     "end_time": "2021-01-05T11:01:08.512983Z",
     "start_time": "2021-01-05T11:01:08.508288Z"
    }
   },
   "outputs": [],
   "source": [
    "# dicts which will contain data frames for each field of knowledge\n",
    "bio = {}\n",
    "chem = {}\n",
    "ph = {}"
   ]
  },
  {
   "cell_type": "code",
   "execution_count": null,
   "metadata": {
    "ExecuteTime": {
     "end_time": "2021-01-05T11:02:13.835446Z",
     "start_time": "2021-01-05T11:01:08.751310Z"
    }
   },
   "outputs": [],
   "source": [
    "for domain, data_dict in tqdm(zip(['biology', 'chemistry', 'physics'], [bio, chem, ph])):\n",
    "    for path in glob(f'{domain}/*.csv'):\n",
    "        print(path)\n",
    "        name = path.split('/')[-1].split('.')[0]\n",
    "        data_dict[name] = pd.read_csv(path, index_col=0)"
   ]
  },
  {
   "cell_type": "markdown",
   "metadata": {},
   "source": [
    "# Tags"
   ]
  },
  {
   "cell_type": "code",
   "execution_count": null,
   "metadata": {
    "ExecuteTime": {
     "end_time": "2021-01-05T11:02:14.256164Z",
     "start_time": "2021-01-05T11:02:13.860814Z"
    }
   },
   "outputs": [],
   "source": [
    "bio_tags = set(bio['Tags'].TagName.tolist())\n",
    "chem_tags = set(chem['Tags'].TagName.tolist())\n",
    "ph_tags = set(ph['Tags'].TagName.tolist())\n",
    "all_tags = bio_tags | chem_tags | ph_tags\n",
    "\n",
    "venn3([bio_tags, chem_tags, ph_tags], set_labels=['bio', 'chem', 'physics'])"
   ]
  },
  {
   "cell_type": "code",
   "execution_count": null,
   "metadata": {
    "ExecuteTime": {
     "end_time": "2021-01-05T11:02:14.274064Z",
     "start_time": "2021-01-05T11:02:14.260572Z"
    }
   },
   "outputs": [],
   "source": [
    "bio_tags & chem_tags & ph_tags"
   ]
  },
  {
   "cell_type": "code",
   "execution_count": null,
   "metadata": {
    "ExecuteTime": {
     "end_time": "2021-01-05T11:02:14.292391Z",
     "start_time": "2021-01-05T11:02:14.280256Z"
    }
   },
   "outputs": [],
   "source": [
    "bio_tags & chem_tags - ph_tags"
   ]
  },
  {
   "cell_type": "code",
   "execution_count": null,
   "metadata": {
    "ExecuteTime": {
     "end_time": "2021-01-05T11:02:14.332679Z",
     "start_time": "2021-01-05T11:02:14.308706Z"
    }
   },
   "outputs": [],
   "source": [
    "def split_tags(string):\n",
    "    if isinstance(string, str):\n",
    "        string = string.lstrip('<').rstrip('>')\n",
    "        strings = string.split('><')\n",
    "        return strings\n",
    "    else:\n",
    "        return []"
   ]
  },
  {
   "cell_type": "code",
   "execution_count": null,
   "metadata": {
    "ExecuteTime": {
     "end_time": "2021-01-05T11:02:15.699084Z",
     "start_time": "2021-01-05T11:02:14.342622Z"
    }
   },
   "outputs": [],
   "source": [
    "for base in [bio, chem, ph]:\n",
    "    base['Posts']['Tags'] = base['Posts']['Tags'].apply(split_tags)"
   ]
  },
  {
   "cell_type": "code",
   "execution_count": null,
   "metadata": {
    "ExecuteTime": {
     "end_time": "2021-01-05T11:02:15.734323Z",
     "start_time": "2021-01-05T11:02:15.702544Z"
    }
   },
   "outputs": [],
   "source": [
    "bio['Posts']['Tags']"
   ]
  },
  {
   "cell_type": "code",
   "execution_count": null,
   "metadata": {
    "ExecuteTime": {
     "end_time": "2021-01-03T13:44:45.115082Z",
     "start_time": "2021-01-03T13:44:45.106726Z"
    }
   },
   "outputs": [],
   "source": []
  },
  {
   "cell_type": "code",
   "execution_count": null,
   "metadata": {
    "ExecuteTime": {
     "end_time": "2021-01-05T11:02:18.398637Z",
     "start_time": "2021-01-05T11:02:15.763011Z"
    }
   },
   "outputs": [],
   "source": [
    "def create_graph(dbs):\n",
    "    graph = nx.Graph()\n",
    "    for db in dbs:\n",
    "        graph.add_nodes_from(db['Tags'].TagName.tolist())\n",
    "    tag_pairs_map = defaultdict(int)\n",
    "    for db in dbs:\n",
    "        for post_tags in db['Posts']['Tags'].tolist():\n",
    "            tag_pairs = itertools.combinations(post_tags, r=2)\n",
    "            for tag1, tag2 in tag_pairs:\n",
    "                if tag1 > tag2:\n",
    "                    tag1, tag2 = tag2, tag1\n",
    "                tag_pairs_map[(tag1, tag2)] += 1\n",
    "\n",
    "    graph.add_weighted_edges_from(\n",
    "        [(tag1, tag2, cnt) for (tag1, tag2), cnt in tag_pairs_map.items()]\n",
    "    )\n",
    "    return graph\n",
    "    \n",
    "tag_graph = create_graph([bio, chem, ph])\n",
    "bio_graph = create_graph([bio])\n",
    "chem_graph = create_graph([chem])\n",
    "ph_graph = create_graph([ph])"
   ]
  },
  {
   "cell_type": "code",
   "execution_count": null,
   "metadata": {},
   "outputs": [],
   "source": []
  },
  {
   "cell_type": "code",
   "execution_count": null,
   "metadata": {
    "ExecuteTime": {
     "end_time": "2021-01-03T15:29:30.449360Z",
     "start_time": "2021-01-03T15:29:30.441352Z"
    }
   },
   "outputs": [],
   "source": [
    "tag_graph.number_of_nodes()"
   ]
  },
  {
   "cell_type": "code",
   "execution_count": null,
   "metadata": {
    "ExecuteTime": {
     "end_time": "2021-01-03T15:29:30.647949Z",
     "start_time": "2021-01-03T15:29:30.630159Z"
    }
   },
   "outputs": [],
   "source": [
    "tag_graph.number_of_edges()"
   ]
  },
  {
   "cell_type": "code",
   "execution_count": null,
   "metadata": {
    "ExecuteTime": {
     "end_time": "2021-01-03T15:13:13.927463Z",
     "start_time": "2021-01-03T15:10:23.400036Z"
    }
   },
   "outputs": [],
   "source": [
    "plt.figure(figsize=(20,20))\n",
    "nx.draw_kamada_kawai(bio_graph, node_color=tag_colors, edge_color=(0,0,0,0.15))"
   ]
  },
  {
   "cell_type": "code",
   "execution_count": null,
   "metadata": {},
   "outputs": [],
   "source": []
  },
  {
   "cell_type": "code",
   "execution_count": null,
   "metadata": {},
   "outputs": [],
   "source": []
  },
  {
   "cell_type": "code",
   "execution_count": null,
   "metadata": {
    "ExecuteTime": {
     "end_time": "2021-01-03T14:39:40.649368Z",
     "start_time": "2021-01-03T14:39:40.640587Z"
    }
   },
   "outputs": [],
   "source": [
    "color_assignment = {\n",
    "    (True, False, False): 1,\n",
    "    (False, True, False): 2,\n",
    "    (False, False, True): 3,\n",
    "    (True, True, False): 4,\n",
    "    (True, False, True): 5,\n",
    "    (False, True, True): 6,\n",
    "    (True, True, True): 7,\n",
    "}\n",
    "\n",
    "tag_colors = []\n",
    "for tag in tag_graph.nodes():\n",
    "    color = color_assignment[(tag in bio_tags, tag in chem_tags, tag in ph_tags)]\n",
    "    tag_colors.append(color)"
   ]
  },
  {
   "cell_type": "code",
   "execution_count": null,
   "metadata": {
    "ExecuteTime": {
     "end_time": "2021-01-03T14:51:51.798182Z",
     "start_time": "2021-01-03T14:44:54.513450Z"
    }
   },
   "outputs": [],
   "source": [
    "plt.figure(figsize=(20,20))\n",
    "nx.draw_kamada_kawai(tag_graph, node_color=tag_colors, edge_color=(0,0,0,0.15))"
   ]
  },
  {
   "cell_type": "code",
   "execution_count": null,
   "metadata": {
    "ExecuteTime": {
     "end_time": "2021-01-03T16:13:14.493956Z",
     "start_time": "2021-01-03T16:13:14.462268Z"
    }
   },
   "outputs": [],
   "source": [
    "bio_sorted_tags = sorted([(tag, d) for tag, d in bio_graph.degree()], reverse=True, key=lambda x: x[1])\n",
    "chem_sorted_tags = sorted([(tag, d) for tag, d in chem_graph.degree()], reverse=True, key=lambda x: x[1])\n",
    "ph_sorted_tags = sorted([(tag, d) for tag, d in ph_graph.degree()], reverse=True, key=lambda x: x[1])\n",
    "bio_sorted_tags[:20]"
   ]
  },
  {
   "cell_type": "code",
   "execution_count": null,
   "metadata": {
    "ExecuteTime": {
     "end_time": "2021-01-03T16:16:17.324611Z",
     "start_time": "2021-01-03T16:16:17.007918Z"
    }
   },
   "outputs": [],
   "source": [
    "go.Figure(\n",
    "    [\n",
    "        go.Scatter(\n",
    "            x=list(range(len(bio_sorted_tags))),\n",
    "            y=[i[1] / max(bio_sorted_tags, key=lambda x: x[1])[1] for i in bio_sorted_tags],\n",
    "            hovertext=[i[0] for i in bio_sorted_tags],\n",
    "            name='bio', line_color='green', mode='lines'\n",
    "        ),\n",
    "        go.Scatter(\n",
    "            x=list(range(len(chem_sorted_tags))),\n",
    "            y=[i[1] / max(chem_sorted_tags, key=lambda x: x[1])[1] for i in chem_sorted_tags],\n",
    "            hovertext=[i[0] for i in chem_sorted_tags],\n",
    "            name='chem', line_color='blue', mode='lines'\n",
    "        ),\n",
    "        go.Scatter(\n",
    "            x=list(range(len(ph_sorted_tags))),\n",
    "            y=[i[1] / max(ph_sorted_tags, key=lambda x: x[1])[1] for i in ph_sorted_tags],\n",
    "            hovertext=[i[0] for i in ph_sorted_tags],\n",
    "            name='ph', line_color='red', mode='lines'\n",
    "        ),\n",
    "    ]\n",
    "    \n",
    ")"
   ]
  },
  {
   "cell_type": "markdown",
   "metadata": {
    "ExecuteTime": {
     "end_time": "2021-01-03T17:03:18.328208Z",
     "start_time": "2021-01-03T17:03:18.323886Z"
    }
   },
   "source": [
    "## clustering by betweeness centrality - wip"
   ]
  },
  {
   "cell_type": "code",
   "execution_count": null,
   "metadata": {
    "ExecuteTime": {
     "end_time": "2021-01-03T16:31:08.419091Z",
     "start_time": "2021-01-03T16:30:35.352167Z"
    }
   },
   "outputs": [],
   "source": [
    "bio_btw_centrality = nx.edge_betweenness_centrality(bio_graph, normalized=True, weight='weight')"
   ]
  },
  {
   "cell_type": "code",
   "execution_count": null,
   "metadata": {
    "ExecuteTime": {
     "end_time": "2021-01-03T16:35:40.850025Z",
     "start_time": "2021-01-03T16:35:40.835933Z"
    }
   },
   "outputs": [],
   "source": [
    "bio_btw_centrality = sorted(bio_btw_centrality.items(), key=lambda x: x[1], reverse=True)"
   ]
  },
  {
   "cell_type": "code",
   "execution_count": null,
   "metadata": {
    "ExecuteTime": {
     "end_time": "2021-01-03T16:43:56.256427Z",
     "start_time": "2021-01-03T16:43:56.145991Z"
    }
   },
   "outputs": [],
   "source": [
    "bio_graph_clusters = bio_graph.copy()"
   ]
  },
  {
   "cell_type": "code",
   "execution_count": null,
   "metadata": {
    "ExecuteTime": {
     "end_time": "2021-01-03T16:44:00.633104Z",
     "start_time": "2021-01-03T16:44:00.624859Z"
    }
   },
   "outputs": [],
   "source": [
    "len(bio_btw_centrality)"
   ]
  },
  {
   "cell_type": "code",
   "execution_count": null,
   "metadata": {
    "ExecuteTime": {
     "end_time": "2021-01-03T16:44:15.356391Z",
     "start_time": "2021-01-03T16:44:15.331475Z"
    }
   },
   "outputs": [],
   "source": [
    "to_remove = [i[0] for i in bio_btw_centrality[:13000]]\n",
    "bio_graph_clusters.remove_edges_from(to_remove)"
   ]
  },
  {
   "cell_type": "code",
   "execution_count": null,
   "metadata": {
    "ExecuteTime": {
     "end_time": "2021-01-03T16:44:16.081991Z",
     "start_time": "2021-01-03T16:44:16.054985Z"
    }
   },
   "outputs": [],
   "source": [
    "list(nx.connected_components(bio_graph_clusters))"
   ]
  },
  {
   "cell_type": "code",
   "execution_count": null,
   "metadata": {},
   "outputs": [],
   "source": []
  },
  {
   "cell_type": "code",
   "execution_count": null,
   "metadata": {
    "ExecuteTime": {
     "end_time": "2021-01-03T17:06:08.350708Z",
     "start_time": "2021-01-03T17:05:57.145373Z"
    }
   },
   "outputs": [],
   "source": [
    "sorted(nx.betweenness_centrality(bio_graph).items(), key=lambda x: x[1], reverse=True)[:30]"
   ]
  },
  {
   "cell_type": "code",
   "execution_count": null,
   "metadata": {
    "ExecuteTime": {
     "end_time": "2021-01-03T17:09:41.926434Z",
     "start_time": "2021-01-03T17:07:17.183070Z"
    }
   },
   "outputs": [],
   "source": [
    "sorted(nx.betweenness_centrality(tag_graph).items(), key=lambda x: x[1], reverse=True)[:30]"
   ]
  },
  {
   "cell_type": "markdown",
   "metadata": {
    "ExecuteTime": {
     "end_time": "2021-01-03T17:31:08.203024Z",
     "start_time": "2021-01-03T17:31:08.199227Z"
    }
   },
   "source": [
    "# Posts texts"
   ]
  },
  {
   "cell_type": "code",
   "execution_count": null,
   "metadata": {
    "ExecuteTime": {
     "end_time": "2021-01-05T11:06:46.365314Z",
     "start_time": "2021-01-05T11:06:46.360773Z"
    }
   },
   "outputs": [],
   "source": [
    "from sklearn.cluster import AgglomerativeClustering\n",
    "from sklearn.decomposition import PCA"
   ]
  },
  {
   "cell_type": "code",
   "execution_count": null,
   "metadata": {
    "ExecuteTime": {
     "end_time": "2021-01-05T11:02:18.490836Z",
     "start_time": "2021-01-05T11:02:18.421269Z"
    }
   },
   "outputs": [],
   "source": [
    "from nltk.stem import WordNetLemmatizer \n",
    "from nltk.tokenize import sent_tokenize, word_tokenize\n",
    "from nltk import corpus\n",
    "\n",
    "nltk.download('wordnet')\n",
    "lemmatizer = WordNetLemmatizer() "
   ]
  },
  {
   "cell_type": "code",
   "execution_count": null,
   "metadata": {
    "ExecuteTime": {
     "end_time": "2021-01-05T11:02:25.205695Z",
     "start_time": "2021-01-05T11:02:18.498358Z"
    }
   },
   "outputs": [],
   "source": [
    "nltk.download()"
   ]
  },
  {
   "cell_type": "code",
   "execution_count": null,
   "metadata": {
    "ExecuteTime": {
     "end_time": "2021-01-05T11:02:25.220439Z",
     "start_time": "2021-01-05T11:02:25.209115Z"
    }
   },
   "outputs": [],
   "source": [
    "stopwords = corpus.stopwords.words('english')"
   ]
  },
  {
   "cell_type": "code",
   "execution_count": null,
   "metadata": {
    "ExecuteTime": {
     "end_time": "2021-01-05T11:02:25.236483Z",
     "start_time": "2021-01-05T11:02:25.224101Z"
    }
   },
   "outputs": [],
   "source": [
    "html_tag = re.compile('<.*?>')\n",
    "new_line = re.compile('\\n')\n",
    "\n",
    "def cleanhtml(raw_html):\n",
    "    if isinstance(raw_html, str):\n",
    "        cleantext = re.sub(html_tag, '', raw_html)\n",
    "        cleantext = re.sub(new_line, ' ', cleantext)\n",
    "        return cleantext\n",
    "    else:\n",
    "        return ''"
   ]
  },
  {
   "cell_type": "code",
   "execution_count": null,
   "metadata": {
    "ExecuteTime": {
     "end_time": "2021-01-05T11:02:39.137484Z",
     "start_time": "2021-01-05T11:02:25.242075Z"
    }
   },
   "outputs": [],
   "source": [
    "for db in [bio, chem, ph]:\n",
    "    db['Posts']['Body'] = db['Posts']['Body'].apply(cleanhtml)"
   ]
  },
  {
   "cell_type": "code",
   "execution_count": null,
   "metadata": {
    "ExecuteTime": {
     "end_time": "2021-01-05T11:02:39.169965Z",
     "start_time": "2021-01-05T11:02:39.143509Z"
    }
   },
   "outputs": [],
   "source": [
    "bio['Posts']['Body'][1]"
   ]
  },
  {
   "cell_type": "code",
   "execution_count": null,
   "metadata": {
    "ExecuteTime": {
     "end_time": "2021-01-05T11:06:38.190553Z",
     "start_time": "2021-01-05T11:02:39.181394Z"
    }
   },
   "outputs": [],
   "source": [
    "bio['Posts']['words'] = None\n",
    "post_words = []\n",
    "for Id, data in bio['Posts'].groupby(bio['Posts'].index):\n",
    "    words = nltk.word_tokenize(data['Body'].values[0])\n",
    "    words = [lemmatizer.lemmatize(word) for word in words]\n",
    "    words = [word.lower() for word in words if word.isalpha()]\n",
    "    words = [word for word in words if word not in stopwords]\n",
    "    post_words.append(words)\n",
    "bio['Posts'].loc[:, 'words'] = post_words"
   ]
  },
  {
   "cell_type": "code",
   "execution_count": null,
   "metadata": {
    "ExecuteTime": {
     "end_time": "2021-01-05T11:06:38.725844Z",
     "start_time": "2021-01-05T11:06:38.208680Z"
    }
   },
   "outputs": [],
   "source": [
    "post_words = [' '.join(words) for words in post_words]"
   ]
  },
  {
   "cell_type": "code",
   "execution_count": null,
   "metadata": {
    "ExecuteTime": {
     "end_time": "2021-01-05T11:06:38.755986Z",
     "start_time": "2021-01-05T11:06:38.735439Z"
    }
   },
   "outputs": [],
   "source": [
    "post_words[0]"
   ]
  },
  {
   "cell_type": "code",
   "execution_count": null,
   "metadata": {
    "ExecuteTime": {
     "end_time": "2021-01-05T11:06:46.327258Z",
     "start_time": "2021-01-05T11:06:38.770263Z"
    }
   },
   "outputs": [],
   "source": [
    "from sklearn.feature_extraction.text import TfidfVectorizer\n",
    "vectorizer = TfidfVectorizer(stop_words={'english'}, max_features=3000)\n",
    "X = vectorizer.fit_transform(post_words)"
   ]
  },
  {
   "cell_type": "code",
   "execution_count": null,
   "metadata": {
    "ExecuteTime": {
     "end_time": "2021-01-05T11:06:46.349184Z",
     "start_time": "2021-01-05T11:06:46.330135Z"
    }
   },
   "outputs": [],
   "source": [
    "X.shape"
   ]
  },
  {
   "cell_type": "code",
   "execution_count": null,
   "metadata": {
    "ExecuteTime": {
     "end_time": "2021-01-05T11:07:47.770337Z",
     "start_time": "2021-01-05T11:07:22.048695Z"
    }
   },
   "outputs": [],
   "source": [
    "X = PCA(50).fit_transform(X.toarray())"
   ]
  },
  {
   "cell_type": "code",
   "execution_count": null,
   "metadata": {
    "ExecuteTime": {
     "start_time": "2021-01-05T11:13:45.306Z"
    }
   },
   "outputs": [],
   "source": [
    "clusering = AgglomerativeClustering(50).fit(X)"
   ]
  },
  {
   "cell_type": "code",
   "execution_count": null,
   "metadata": {},
   "outputs": [],
   "source": []
  },
  {
   "cell_type": "code",
   "execution_count": null,
   "metadata": {},
   "outputs": [],
   "source": []
  },
  {
   "cell_type": "code",
   "execution_count": null,
   "metadata": {},
   "outputs": [],
   "source": []
  },
  {
   "cell_type": "code",
   "execution_count": null,
   "metadata": {},
   "outputs": [],
   "source": [
    "# topic detection"
   ]
  },
  {
   "cell_type": "code",
   "execution_count": null,
   "metadata": {},
   "outputs": [],
   "source": []
  },
  {
   "cell_type": "code",
   "execution_count": null,
   "metadata": {},
   "outputs": [],
   "source": []
  },
  {
   "cell_type": "code",
   "execution_count": null,
   "metadata": {},
   "outputs": [],
   "source": []
  },
  {
   "cell_type": "code",
   "execution_count": null,
   "metadata": {},
   "outputs": [],
   "source": []
  },
  {
   "cell_type": "code",
   "execution_count": null,
   "metadata": {},
   "outputs": [],
   "source": []
  },
  {
   "cell_type": "code",
   "execution_count": null,
   "metadata": {},
   "outputs": [],
   "source": []
  },
  {
   "cell_type": "code",
   "execution_count": null,
   "metadata": {},
   "outputs": [],
   "source": []
  },
  {
   "cell_type": "code",
   "execution_count": null,
   "metadata": {},
   "outputs": [],
   "source": []
  },
  {
   "cell_type": "code",
   "execution_count": null,
   "metadata": {},
   "outputs": [],
   "source": []
  },
  {
   "cell_type": "code",
   "execution_count": null,
   "metadata": {},
   "outputs": [],
   "source": []
  },
  {
   "cell_type": "code",
   "execution_count": null,
   "metadata": {},
   "outputs": [],
   "source": []
  },
  {
   "cell_type": "code",
   "execution_count": null,
   "metadata": {},
   "outputs": [],
   "source": []
  },
  {
   "cell_type": "code",
   "execution_count": null,
   "metadata": {},
   "outputs": [],
   "source": []
  }
 ],
 "metadata": {
  "kernelspec": {
   "display_name": "Python 3",
   "language": "python",
   "name": "python3"
  },
  "language_info": {
   "codemirror_mode": {
    "name": "ipython",
    "version": 3
   },
   "file_extension": ".py",
   "mimetype": "text/x-python",
   "name": "python",
   "nbconvert_exporter": "python",
   "pygments_lexer": "ipython3",
   "version": "3.8.5"
  },
  "toc": {
   "base_numbering": 1,
   "nav_menu": {},
   "number_sections": true,
   "sideBar": true,
   "skip_h1_title": false,
   "title_cell": "Table of Contents",
   "title_sidebar": "Contents",
   "toc_cell": false,
   "toc_position": {
    "height": "calc(100% - 180px)",
    "left": "10px",
    "top": "150px",
    "width": "321.6px"
   },
   "toc_section_display": true,
   "toc_window_display": true
  }
 },
 "nbformat": 4,
 "nbformat_minor": 4
}
